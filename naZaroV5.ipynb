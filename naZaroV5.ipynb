{
 "cells": [
  {
   "cell_type": "code",
   "execution_count": 15,
   "id": "d990a6a3",
   "metadata": {},
   "outputs": [],
   "source": [
    "%matplotlib inline\n",
    "import numpy as np\n",
    "import pandas as pd\n",
    "from numpy.random import seed #normal,random,binomial,,choice\n",
    "import matplotlib.pyplot as plt\n",
    "plt.style.use('ggplot')\n",
    "from sklearn.svm import SVC #, SVR, LinearSVC, LinearSVR\n",
    "from sklearn.preprocessing import StandardScaler #LabelEncoder, \n",
    "from sklearn.model_selection import cross_val_score,GridSearchCV,train_test_split\n",
    "#from lightgbm import LGBMClassifier\n",
    "from sklearn.metrics import confusion_matrix, roc_auc_score, roc_curve \n",
    "from sklearn.metrics import accuracy_score, cohen_kappa_score\n",
    "import string"
   ]
  },
  {
   "cell_type": "code",
   "execution_count": 2,
   "id": "99c44649",
   "metadata": {},
   "outputs": [],
   "source": [
    "data_path = \"/Users/macbook/Downloads/machine_learning_05_data/\"  "
   ]
  },
  {
   "cell_type": "code",
   "execution_count": 17,
   "id": "fd86e3ae",
   "metadata": {},
   "outputs": [
    {
     "data": {
      "text/html": [
       "<div>\n",
       "<style scoped>\n",
       "    .dataframe tbody tr th:only-of-type {\n",
       "        vertical-align: middle;\n",
       "    }\n",
       "\n",
       "    .dataframe tbody tr th {\n",
       "        vertical-align: top;\n",
       "    }\n",
       "\n",
       "    .dataframe thead th {\n",
       "        text-align: right;\n",
       "    }\n",
       "</style>\n",
       "<table border=\"1\" class=\"dataframe\">\n",
       "  <thead>\n",
       "    <tr style=\"text-align: right;\">\n",
       "      <th></th>\n",
       "      <th>ID</th>\n",
       "      <th>x0</th>\n",
       "      <th>x1</th>\n",
       "    </tr>\n",
       "  </thead>\n",
       "  <tbody>\n",
       "    <tr>\n",
       "      <th>0</th>\n",
       "      <td>0</td>\n",
       "      <td>4.973719</td>\n",
       "      <td>2.488462</td>\n",
       "    </tr>\n",
       "    <tr>\n",
       "      <th>1</th>\n",
       "      <td>1</td>\n",
       "      <td>19.974843</td>\n",
       "      <td>16.470240</td>\n",
       "    </tr>\n",
       "    <tr>\n",
       "      <th>2</th>\n",
       "      <td>2</td>\n",
       "      <td>18.409547</td>\n",
       "      <td>25.970218</td>\n",
       "    </tr>\n",
       "    <tr>\n",
       "      <th>3</th>\n",
       "      <td>3</td>\n",
       "      <td>27.914945</td>\n",
       "      <td>-21.349040</td>\n",
       "    </tr>\n",
       "    <tr>\n",
       "      <th>4</th>\n",
       "      <td>4</td>\n",
       "      <td>19.340554</td>\n",
       "      <td>-2.392423</td>\n",
       "    </tr>\n",
       "  </tbody>\n",
       "</table>\n",
       "</div>"
      ],
      "text/plain": [
       "   ID         x0         x1\n",
       "0   0   4.973719   2.488462\n",
       "1   1  19.974843  16.470240\n",
       "2   2  18.409547  25.970218\n",
       "3   3  27.914945 -21.349040\n",
       "4   4  19.340554  -2.392423"
      ]
     },
     "execution_count": 17,
     "metadata": {},
     "output_type": "execute_result"
    }
   ],
   "source": [
    "train = pd.read_csv(data_path + 'train_sample.csv')\n",
    "test = pd.read_csv(data_path + 'test_sample.csv')\n",
    "X = train.drop([\"ID\", \"class\"], axis = 1)\n",
    "Y = train[\"class\"]\n",
    "train = train.drop(\"ID\", axis = 1)\n",
    "test_ = test.drop(\"ID\", axis = 1)\n",
    "test.head()"
   ]
  },
  {
   "cell_type": "code",
   "execution_count": 4,
   "id": "509cb2eb",
   "metadata": {},
   "outputs": [
    {
     "name": "stdout",
     "output_type": "stream",
     "text": [
      "0.810000 with:  {'C': 15, 'gamma': 10.0}\n",
      "0.892000 with:  {'C': 15, 'gamma': 1.0}\n",
      "0.924000 with:  {'C': 15, 'gamma': 0.1}\n",
      "0.935000 with:  {'C': 15, 'gamma': 0.010000000000000002}\n",
      "0.940000 with:  {'C': 15, 'gamma': 0.0010000000000000002}\n",
      "0.811000 with:  {'C': 20, 'gamma': 10.0}\n",
      "0.891000 with:  {'C': 20, 'gamma': 1.0}\n",
      "0.924000 with:  {'C': 20, 'gamma': 0.1}\n",
      "0.935000 with:  {'C': 20, 'gamma': 0.010000000000000002}\n",
      "0.940000 with:  {'C': 20, 'gamma': 0.0010000000000000002}\n",
      "0.811000 with:  {'C': 25, 'gamma': 10.0}\n",
      "0.890000 with:  {'C': 25, 'gamma': 1.0}\n",
      "0.922000 with:  {'C': 25, 'gamma': 0.1}\n",
      "0.934000 with:  {'C': 25, 'gamma': 0.010000000000000002}\n",
      "0.940000 with:  {'C': 25, 'gamma': 0.0010000000000000002}\n"
     ]
    }
   ],
   "source": [
    "param_test = {'gamma':.1**np.arange(-1,4), 'C': 5*np.arange(3,6)}\n",
    "grid = GridSearchCV(estimator = SVC(), param_grid = param_test, \n",
    "                    n_jobs=-1,cv=10)\n",
    "grid.fit(X, Y)\n",
    "# summarize results\n",
    "for mean,param in zip(grid.cv_results_['mean_test_score'],grid.cv_results_['params']):\n",
    "    print(\"%f with: \" % mean,param)\n",
    "bestGamma = grid.best_params_['gamma']\n",
    "bestC = grid.best_params_['C']"
   ]
  },
  {
   "cell_type": "code",
   "execution_count": 18,
   "id": "28a5638a",
   "metadata": {},
   "outputs": [],
   "source": [
    "clf = SVC(C=grid.best_params_['C'],gamma=grid.best_params_['gamma'])\n",
    "clf.fit(X, Y)\n",
    "pred = clf.predict(test_)\n"
   ]
  },
  {
   "cell_type": "code",
   "execution_count": 19,
   "id": "96092ab2",
   "metadata": {},
   "outputs": [],
   "source": [
    "test['class'] = pred\n",
    "test[['ID','class']].to_csv('submission.csv', index=False)"
   ]
  },
  {
   "cell_type": "code",
   "execution_count": null,
   "id": "e4176f90",
   "metadata": {},
   "outputs": [],
   "source": []
  }
 ],
 "metadata": {
  "kernelspec": {
   "display_name": "Python 3 (ipykernel)",
   "language": "python",
   "name": "python3"
  },
  "language_info": {
   "codemirror_mode": {
    "name": "ipython",
    "version": 3
   },
   "file_extension": ".py",
   "mimetype": "text/x-python",
   "name": "python",
   "nbconvert_exporter": "python",
   "pygments_lexer": "ipython3",
   "version": "3.9.13"
  }
 },
 "nbformat": 4,
 "nbformat_minor": 5
}
