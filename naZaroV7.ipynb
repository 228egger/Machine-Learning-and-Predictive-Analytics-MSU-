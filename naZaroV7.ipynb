{
 "cells": [
  {
   "cell_type": "code",
   "execution_count": 39,
   "id": "21997812",
   "metadata": {},
   "outputs": [],
   "source": [
    "import pandas as pd\n",
    "import numpy as np\n",
    "import os\n",
    "from sklearn.ensemble import RandomForestClassifier\n",
    "from sklearn.linear_model import LinearRegression\n",
    "from pandas import read_csv\n",
    "from datetime import datetime\n",
    "from pandas import Series\n",
    "from pandas import DataFrame\n",
    "from pandas import concat\n",
    "from matplotlib import pyplot as plt\n",
    "import pandas as pd\n",
    "import numpy as np\n",
    "from sklearn.datasets import load_diabetes\n",
    "from sklearn.model_selection import train_test_split\n",
    "from sklearn.metrics import mean_squared_error\n",
    "from sklearn.preprocessing import MinMaxScaler\n",
    "import sklearn.linear_model\n",
    "\n",
    "from tensorflow.keras.models import Sequential\n",
    "from tensorflow.keras.layers import Dense\n",
    "from tensorflow.keras.layers import LSTM\n",
    "from tensorflow.keras.layers import SimpleRNN"
   ]
  },
  {
   "cell_type": "code",
   "execution_count": 6,
   "id": "30458cd2",
   "metadata": {},
   "outputs": [],
   "source": [
    "data_path = \"/Users/macbook/Downloads/\"\n",
    "train = pd.read_csv(os.path.join(data_path,\"data.csv\"))"
   ]
  },
  {
   "cell_type": "code",
   "execution_count": 7,
   "id": "479d1f3e",
   "metadata": {},
   "outputs": [
    {
     "data": {
      "text/html": [
       "<div>\n",
       "<style scoped>\n",
       "    .dataframe tbody tr th:only-of-type {\n",
       "        vertical-align: middle;\n",
       "    }\n",
       "\n",
       "    .dataframe tbody tr th {\n",
       "        vertical-align: top;\n",
       "    }\n",
       "\n",
       "    .dataframe thead th {\n",
       "        text-align: right;\n",
       "    }\n",
       "</style>\n",
       "<table border=\"1\" class=\"dataframe\">\n",
       "  <thead>\n",
       "    <tr style=\"text-align: right;\">\n",
       "      <th></th>\n",
       "      <th>x1</th>\n",
       "      <th>x2</th>\n",
       "      <th>x3</th>\n",
       "      <th>x4</th>\n",
       "      <th>x5</th>\n",
       "      <th>x6</th>\n",
       "      <th>x7</th>\n",
       "      <th>x8</th>\n",
       "      <th>x9</th>\n",
       "      <th>x10</th>\n",
       "      <th>y</th>\n",
       "    </tr>\n",
       "  </thead>\n",
       "  <tbody>\n",
       "    <tr>\n",
       "      <th>0</th>\n",
       "      <td>-0.4772</td>\n",
       "      <td>0.0965</td>\n",
       "      <td>-0.2774</td>\n",
       "      <td>-0.0438</td>\n",
       "      <td>-0.0827</td>\n",
       "      <td>0.4365</td>\n",
       "      <td>-0.3548</td>\n",
       "      <td>-0.6270</td>\n",
       "      <td>1.7886</td>\n",
       "      <td>-1.8635</td>\n",
       "      <td>6.3096</td>\n",
       "    </tr>\n",
       "    <tr>\n",
       "      <th>1</th>\n",
       "      <td>-1.1011</td>\n",
       "      <td>0.8813</td>\n",
       "      <td>0.0500</td>\n",
       "      <td>0.9824</td>\n",
       "      <td>-0.5454</td>\n",
       "      <td>0.8846</td>\n",
       "      <td>-0.4047</td>\n",
       "      <td>-1.5465</td>\n",
       "      <td>-1.3139</td>\n",
       "      <td>1.7096</td>\n",
       "      <td>-0.6851</td>\n",
       "    </tr>\n",
       "    <tr>\n",
       "      <th>2</th>\n",
       "      <td>-0.2300</td>\n",
       "      <td>1.4861</td>\n",
       "      <td>-1.0238</td>\n",
       "      <td>-0.7688</td>\n",
       "      <td>0.6252</td>\n",
       "      <td>-0.2056</td>\n",
       "      <td>-0.7130</td>\n",
       "      <td>-0.1605</td>\n",
       "      <td>-1.1850</td>\n",
       "      <td>0.2367</td>\n",
       "      <td>-2.8551</td>\n",
       "    </tr>\n",
       "    <tr>\n",
       "      <th>3</th>\n",
       "      <td>-0.1319</td>\n",
       "      <td>-1.2441</td>\n",
       "      <td>-0.8038</td>\n",
       "      <td>1.1240</td>\n",
       "      <td>-0.9238</td>\n",
       "      <td>1.9761</td>\n",
       "      <td>-2.4191</td>\n",
       "      <td>-1.0239</td>\n",
       "      <td>0.7451</td>\n",
       "      <td>-0.6264</td>\n",
       "      <td>10.3076</td>\n",
       "    </tr>\n",
       "    <tr>\n",
       "      <th>4</th>\n",
       "      <td>-0.2678</td>\n",
       "      <td>-0.3563</td>\n",
       "      <td>-0.5966</td>\n",
       "      <td>-2.2483</td>\n",
       "      <td>-0.8739</td>\n",
       "      <td>0.6467</td>\n",
       "      <td>-0.5886</td>\n",
       "      <td>0.0297</td>\n",
       "      <td>-1.6233</td>\n",
       "      <td>-1.7431</td>\n",
       "      <td>-5.1887</td>\n",
       "    </tr>\n",
       "  </tbody>\n",
       "</table>\n",
       "</div>"
      ],
      "text/plain": [
       "       x1      x2      x3      x4      x5      x6      x7      x8      x9  \\\n",
       "0 -0.4772  0.0965 -0.2774 -0.0438 -0.0827  0.4365 -0.3548 -0.6270  1.7886   \n",
       "1 -1.1011  0.8813  0.0500  0.9824 -0.5454  0.8846 -0.4047 -1.5465 -1.3139   \n",
       "2 -0.2300  1.4861 -1.0238 -0.7688  0.6252 -0.2056 -0.7130 -0.1605 -1.1850   \n",
       "3 -0.1319 -1.2441 -0.8038  1.1240 -0.9238  1.9761 -2.4191 -1.0239  0.7451   \n",
       "4 -0.2678 -0.3563 -0.5966 -2.2483 -0.8739  0.6467 -0.5886  0.0297 -1.6233   \n",
       "\n",
       "      x10        y  \n",
       "0 -1.8635   6.3096  \n",
       "1  1.7096  -0.6851  \n",
       "2  0.2367  -2.8551  \n",
       "3 -0.6264  10.3076  \n",
       "4 -1.7431  -5.1887  "
      ]
     },
     "execution_count": 7,
     "metadata": {},
     "output_type": "execute_result"
    }
   ],
   "source": [
    "train.head()"
   ]
  },
  {
   "cell_type": "code",
   "execution_count": 16,
   "id": "745b593d",
   "metadata": {},
   "outputs": [
    {
     "data": {
      "text/plain": [
       "0     6.3096\n",
       "1    -0.6851\n",
       "2    -2.8551\n",
       "3    10.3076\n",
       "4    -5.1887\n",
       "Name: y, dtype: float64"
      ]
     },
     "execution_count": 16,
     "metadata": {},
     "output_type": "execute_result"
    }
   ],
   "source": [
    "y = train[\"y\"]\n",
    "X = train.drop(\"y\", axis=1)"
   ]
  },
  {
   "cell_type": "code",
   "execution_count": 20,
   "id": "292b4042",
   "metadata": {},
   "outputs": [],
   "source": [
    "reg = LinearRegression().fit(X, y)"
   ]
  },
  {
   "cell_type": "code",
   "execution_count": 21,
   "id": "740c562e",
   "metadata": {},
   "outputs": [
    {
     "data": {
      "text/plain": [
       "array([-0.06035419,  0.48750651,  0.17689606, -0.0307513 ,  0.04585608,\n",
       "        0.96444912,  0.06520602,  0.00629354,  2.05366564,  0.37127691])"
      ]
     },
     "execution_count": 21,
     "metadata": {},
     "output_type": "execute_result"
    }
   ],
   "source": [
    "reg.coef_"
   ]
  },
  {
   "cell_type": "code",
   "execution_count": 24,
   "id": "ce920de9",
   "metadata": {},
   "outputs": [
    {
     "name": "stdout",
     "output_type": "stream",
     "text": [
      "9 6 2 10 3\n",
      "2.053665636525015 0.9644491211230262 0.48750650697073233 0.3712769084622804 0.17689605757256943\n"
     ]
    }
   ],
   "source": [
    "print(9, 6, 2, 10, 3)\n",
    "print(reg.coef_[8], reg.coef_[5], reg.coef_[1], reg.coef_[9], reg.coef_[2])"
   ]
  },
  {
   "cell_type": "code",
   "execution_count": 40,
   "id": "77c74197",
   "metadata": {},
   "outputs": [
    {
     "data": {
      "text/plain": [
       "0.35103841664320656"
      ]
     },
     "execution_count": 40,
     "metadata": {},
     "output_type": "execute_result"
    }
   ],
   "source": [
    "model = sklearn.linear_model.Ridge(alpha=1e-2).fit(X, y)\n",
    ">>> model.score(X, y)"
   ]
  },
  {
   "cell_type": "code",
   "execution_count": 43,
   "id": "5e91c4d8",
   "metadata": {},
   "outputs": [
    {
     "name": "stdout",
     "output_type": "stream",
     "text": [
      "8\n",
      "5\n",
      "1\n",
      "9\n",
      "2\n",
      "6\n",
      "0\n"
     ]
    }
   ],
   "source": [
    "from sklearn.inspection import permutation_importance\n",
    " r = permutation_importance(model, X, y,\n",
    "...                            n_repeats=30,\n",
    "...                            random_state=0)\n",
    "\n",
    ">>> for i in r.importances_mean.argsort()[::-1]:\n",
    "...     if r.importances_mean[i] - 2 * r.importances_std[i] > 0:\n",
    "...         print(i)"
   ]
  },
  {
   "cell_type": "code",
   "execution_count": null,
   "id": "f3059fe0",
   "metadata": {},
   "outputs": [],
   "source": [
    "9 9 6 2 10 3\n",
    "6\n",
    "2\n",
    "10\n",
    "3"
   ]
  },
  {
   "cell_type": "code",
   "execution_count": null,
   "id": "cfd8bc6e",
   "metadata": {},
   "outputs": [],
   "source": [
    "from keras.wrappers.scikit_learn import KerasClassifier, KerasRegressor\n",
    "from keras.models import Sequential\n",
    "from keras.layers import Dense, Dropout, Activation, Flatten\n",
    "\n",
    "def base_model():\n",
    "    model = Sequential()\n",
    "    model.add(Dense(200, input_dim=10, kernel_initializer='normal', activation='relu'))\n",
    "    model.add(Dense(1, kernel_initializer='normal'))\n",
    "    model.compile(loss='mean_squared_error', optimizer = 'adam')\n",
    "    return model\n",
    "\n",
    "clf = KerasRegressor(build_fn=base_model, epochs=30, batch_size=128,verbose=0)\n",
    "clf.fit(X,y)\n",
    "\n",
    "perm = PermutationImportance(clf, random_state=1).fit(X,y)\n",
    "eli5.show_weights(perm, feature_names = X.columns.tolist())"
   ]
  }
 ],
 "metadata": {
  "kernelspec": {
   "display_name": "Python 3 (ipykernel)",
   "language": "python",
   "name": "python3"
  },
  "language_info": {
   "codemirror_mode": {
    "name": "ipython",
    "version": 3
   },
   "file_extension": ".py",
   "mimetype": "text/x-python",
   "name": "python",
   "nbconvert_exporter": "python",
   "pygments_lexer": "ipython3",
   "version": "3.9.13"
  }
 },
 "nbformat": 4,
 "nbformat_minor": 5
}
