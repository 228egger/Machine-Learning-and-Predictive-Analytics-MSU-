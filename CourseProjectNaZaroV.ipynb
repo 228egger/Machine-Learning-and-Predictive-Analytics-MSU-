{
 "cells": [
  {
   "cell_type": "code",
   "execution_count": null,
   "id": "e477a557",
   "metadata": {},
   "outputs": [],
   "source": [
    "import pandas as pd\n",
    "import os\n",
    "import xgboost as xgb\n",
    "import operator\n",
    "from matplotlib import pylab as plt\n",
    "from sklearn import preprocessing"
   ]
  },
  {
   "cell_type": "code",
   "execution_count": null,
   "id": "7f41a654",
   "metadata": {},
   "outputs": [],
   "source": [
    "data_path = \"/Users/macbook/Downloads/supervized_classification_data\"\n",
    "train = pd.read_csv(os.path.join(data_path,\"train_sample.csv\"))\n",
    "test = pd.read_csv(os.path.join(data_path,\"test_sample.csv\"))"
   ]
  },
  {
   "cell_type": "code",
   "execution_count": null,
   "id": "fe463949",
   "metadata": {},
   "outputs": [],
   "source": [
    "labels = train.target.values\n",
    "labels = preprocessing.LabelEncoder().fit_transform(labels)\n",
    "train = train.drop([\"target\"], axis=1)\n",
    "features=list(train.columns[0:])\n",
    "test = test.drop(\"id\", axis = 1)"
   ]
  },
  {
   "cell_type": "code",
   "execution_count": null,
   "id": "2ceee103",
   "metadata": {},
   "outputs": [],
   "source": [
    "params = {\"objective\": \"multi:softprob\", \"eval_metric\":\"mlogloss\", \"num_class\": 9}\n",
    "train_xgb = xgb.DMatrix(train, labels)\n",
    "test_xgb  = xgb.DMatrix(test)\n",
    "trainRound = 200"
   ]
  },
  {
   "cell_type": "code",
   "execution_count": null,
   "id": "57195361",
   "metadata": {},
   "outputs": [],
   "source": [
    "gbm = xgb.train(params, train_xgb, trainRound)\n",
    "pred = gbm.predict(test_xgb)"
   ]
  },
  {
   "cell_type": "code",
   "execution_count": null,
   "id": "8469b51f",
   "metadata": {},
   "outputs": [],
   "source": [
    "outfile = open('xgb.fmap', 'w')\n",
    "i = 0\n",
    "for feat in features:\n",
    "    outfile.write('{0}\\t{1}\\tq\\n'.format(i, feat))\n",
    "    i = i + 1\n",
    "outfile.close()"
   ]
  },
  {
   "cell_type": "code",
   "execution_count": null,
   "id": "cda08432",
   "metadata": {},
   "outputs": [],
   "source": [
    "importance = gbm.get_fscore(fmap='xgb.fmap')\n",
    "importance = sorted(importance.items(), key=operator.itemgetter(1))\n",
    "df = pd.DataFrame(importance, columns=['feature', 'fscore'])\n",
    "df['fscore'] = df['fscore'] / df['fscore'].sum()\n",
    "plt.figure()\n",
    "df.plot()\n",
    "df.plot(kind='barh', x='feature', y='fscore', legend=False, figsize=(6, 20))\n",
    "plt.title('XGBoost Feature Importance')\n",
    "plt.xlabel('relative importance')\n",
    "plt.gcf().savefig('feature_importance_xgb.png')"
   ]
  },
  {
   "cell_type": "code",
   "execution_count": null,
   "id": "90870419",
   "metadata": {},
   "outputs": [],
   "source": [
    "test.index"
   ]
  },
  {
   "cell_type": "code",
   "execution_count": null,
   "id": "f4d32310",
   "metadata": {},
   "outputs": [],
   "source": [
    "test_ = pd.read_csv(os.path.join(data_path,\"test_sample.csv\"))\n",
    "pred = pd.DataFrame(pred, index=test_.id.values, columns=[f\"{i}\" for i in range(9)])\n",
    "pred.index.name = \"id\"\n",
    "pred.to_csv('prediction.csv')"
   ]
  },
  {
   "cell_type": "code",
   "execution_count": null,
   "id": "4af4357a",
   "metadata": {},
   "outputs": [],
   "source": [
    "pred"
   ]
  },
  {
   "cell_type": "code",
   "execution_count": null,
   "id": "e1b76422",
   "metadata": {},
   "outputs": [],
   "source": []
  }
 ],
 "metadata": {
  "kernelspec": {
   "display_name": "Python 3 (ipykernel)",
   "language": "python",
   "name": "python3"
  },
  "language_info": {
   "codemirror_mode": {
    "name": "ipython",
    "version": 3
   },
   "file_extension": ".py",
   "mimetype": "text/x-python",
   "name": "python",
   "nbconvert_exporter": "python",
   "pygments_lexer": "ipython3",
   "version": "3.9.13"
  }
 },
 "nbformat": 4,
 "nbformat_minor": 5
}
